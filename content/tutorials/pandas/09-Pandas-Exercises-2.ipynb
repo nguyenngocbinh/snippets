{
 "cells": [
  {
   "cell_type": "markdown",
   "id": "f9cf9394",
   "metadata": {},
   "source": [
    "\n",
    "# 1. Introduction\n",
    "For this project we were asked to select a dataset and using the data answer a question of our choosing. I selected the Titanic Data Set which looks at the characteristics of a sample of the passengers on the Titanic, including whether they survived or not, gender, age, siblings / spouses, parents and children, fare (cost of ticket), embarkation port.\n",
    "\n",
    "After looking at the contents of the dataset, I thought it would be interesting to look at the following questions:\n",
    "\n",
    "* Which gender had a better chance of survival?\n",
    "* Which social class had a better chance of survival?\n",
    "* Which age group had a better chance of survival?"
   ]
  },
  {
   "cell_type": "markdown",
   "id": "d144f292",
   "metadata": {},
   "source": [
    "## Dataset Information/ Data Dictionary/Variable Notes\n",
    "The sinking of the RMS Titanic is one of the most infamous shipwrecks in history. On April 15, 1912, during her maiden voyage, the Titanic sank after colliding with an iceberg, killing 1502 out of 2224 passengers and crew. This sensational tragedy shocked the international community and led to better safety regulations for ships.\n",
    "\n",
    "One of the reasons that the shipwreck led to such loss of life was that there were not enough lifeboats for the passengers and crew. Although there was some element of luck involved in surviving the sinking, some groups of people were more likely to survive than others, such as women, children, and the upper-class.\n",
    "\n",
    "Titanic Data - Contains demographics and passenger information from 891 of the 2224 passengers and crew on board the Titanic.\n",
    "\n",
    "| Variable | Definition | Key |\n",
    "| :- | :- | :- |\n",
    "| Survived | Survival | 0 = No, 1 = Yes |\n",
    "| Pclass | Ticket class | 1 = 1st, 2 = 2nd, 3 = 3rd |\n",
    "| Sex | Sex |\n",
    "| Age | Age in years |\n",
    "| Sibsp | Number of siblings / spouses aboard the Titanic |\n",
    "| Parch | Number of parents / children aboard the Titanic |\n",
    "| Ticket | Ticket number |\n",
    "| Fare | Passenger fare |\n",
    "| Cabin | Cabin number |\n",
    "| Embarked | Port of Embarkation | C = Cherbourg, Q = Queenstown,S = Southampton |\n",
    "\n",
    "<b>Pclass</b>: A proxy for socio-economic status (SES)\n",
    "1st = Upper\n",
    "2nd = Middle\n",
    "3rd = Lower\n",
    "\n",
    "<b>Age</b>: Age is fractional if less than 1. If the age is estimated, is it in the form of xx.5\n",
    "\n",
    "<b>Sibsp</b>: The dataset defines family relations in this way...\n",
    "<br>\n",
    "Sibling = brother, sister, stepbrother, stepsister\n",
    "<br>\n",
    "Spouse = husband, wife (mistresses and fiancés were ignored)\n",
    "\n",
    "<b>Parch</b>: The dataset defines family relations in this way...\n",
    "<br>\n",
    "Parent = mother, father\n",
    "<br>\n",
    "Child = daughter, son, stepdaughter, stepson\n",
    "<br>\n",
    "Some children travelled only with a nanny, therefore parch=0 for them."
   ]
  },
  {
   "cell_type": "markdown",
   "id": "01ca922d",
   "metadata": {},
   "source": [
    "# 2. Setting up report\n",
    "In order to analyse and report on the data, I have choosen to use ipython notebook, along with the numpy, pandas, matplotlib.pyplot and seaborn python modules. In order to use these modules they needed to be imported into the notebook first as per below."
   ]
  },
  {
   "cell_type": "code",
   "execution_count": 1,
   "id": "45c6da33",
   "metadata": {},
   "outputs": [],
   "source": [
    "#importing of required modules\n",
    "import numpy as np\n",
    "import pandas as pd\n",
    "import matplotlib.pyplot as plt\n",
    "import seaborn as sns\n",
    "import ipy_table as tbl\n",
    "from numbers import Number\n",
    "from scipy import stats\n",
    "#allow plots and visualisations to be displayed in the report\n",
    "%matplotlib inline"
   ]
  },
  {
   "cell_type": "code",
   "execution_count": 2,
   "id": "1574afa9",
   "metadata": {},
   "outputs": [],
   "source": [
    "def as_percent(val, precision='0.2'):\n",
    "    \"\"\"Convert number to percentage string.\"\"\"\n",
    "    if isinstance(val, Number):\n",
    "        return \"{{:{}%}}\".format(precision).format(val)\n",
    "    else:\n",
    "        raise TypeError(\"Numeric type required\")\n",
    "\n",
    "def calculate_percentage(val, total, format_percent = False):\n",
    "    \"\"\"Calculates the percentage of a value over a total\"\"\"\n",
    "    percent = np.divide(val, total, dtype=float)\n",
    "    if format_percent:\n",
    "        percent = as_percent(percent)\n",
    "    return percent"
   ]
  },
  {
   "cell_type": "markdown",
   "id": "c0f4270f",
   "metadata": {},
   "source": [
    "# 3. Read CSV into dataframe"
   ]
  },
  {
   "cell_type": "code",
   "execution_count": 3,
   "id": "0c3bbef8",
   "metadata": {},
   "outputs": [],
   "source": [
    "# Read csv into Pandas Dataframe and store in dataset variable\n",
    "titanic_df = pd.read_csv('titanic_data.csv')"
   ]
  },
  {
   "cell_type": "markdown",
   "id": "49a2cfaa",
   "metadata": {},
   "source": [
    "# 4. Data Wrangling / Cleaning\n",
    "Before working with the data I needed to look at what needed to be cleaned up, i.e. find missing data, remove data that will not assist with the analysis."
   ]
  },
  {
   "cell_type": "markdown",
   "id": "6693f116",
   "metadata": {},
   "source": [
    "## 4.1 Investigating Dataset and finding missing / incomplete data"
   ]
  },
  {
   "cell_type": "code",
   "execution_count": 4,
   "id": "492229c6",
   "metadata": {},
   "outputs": [
    {
     "name": "stdout",
     "output_type": "stream",
     "text": [
      "<class 'pandas.core.frame.DataFrame'>\n",
      "RangeIndex: 891 entries, 0 to 890\n",
      "Data columns (total 12 columns):\n",
      " #   Column       Non-Null Count  Dtype  \n",
      "---  ------       --------------  -----  \n",
      " 0   PassengerId  891 non-null    int64  \n",
      " 1   Survived     891 non-null    int64  \n",
      " 2   Pclass       891 non-null    int64  \n",
      " 3   Name         891 non-null    object \n",
      " 4   Sex          891 non-null    object \n",
      " 5   Age          714 non-null    float64\n",
      " 6   SibSp        891 non-null    int64  \n",
      " 7   Parch        891 non-null    int64  \n",
      " 8   Ticket       891 non-null    object \n",
      " 9   Fare         891 non-null    float64\n",
      " 10  Cabin        204 non-null    object \n",
      " 11  Embarked     889 non-null    object \n",
      "dtypes: float64(2), int64(5), object(5)\n",
      "memory usage: 83.7+ KB\n"
     ]
    }
   ],
   "source": [
    "# print out information about the data\n",
    "titanic_df.info()"
   ]
  },
  {
   "cell_type": "markdown",
   "id": "ff9e22cd",
   "metadata": {},
   "source": [
    "After printing out the dataset information above, we can see that the Age, Cabin and Embarked columns are missing entries. As the Cabin column is not relevant to the analysis of the data I will be removing that column however I will need to find a way update populate the missing ages and embarked port."
   ]
  },
  {
   "cell_type": "markdown",
   "id": "8fac6052",
   "metadata": {},
   "source": [
    "## 4.2 Missing Ages\n",
    "In order to populate the missing ages I will use the mean age based on the Sex and Pclass"
   ]
  },
  {
   "cell_type": "code",
   "execution_count": 5,
   "id": "a8772e52",
   "metadata": {},
   "outputs": [],
   "source": [
    "\n",
    "missing_ages = titanic_df[titanic_df['Age'].isnull()]\n",
    "# determine mean age based on Sex and Pclass\n",
    "mean_ages = titanic_df.groupby(['Sex','Pclass'])['Age'].mean()\n",
    "\n",
    "def remove_na_ages(row):\n",
    "    '''\n",
    "    function to check if the age is null and replace wth the mean from \n",
    "    the mean ages dataframe \n",
    "    '''\n",
    "    if pd.isnull(row['Age']):\n",
    "        return mean_ages[row['Sex'],row['Pclass']]\n",
    "    else:\n",
    "        return row['Age']\n",
    "\n",
    "titanic_df['Age'] = titanic_df.apply(remove_na_ages, axis=1)"
   ]
  },
  {
   "cell_type": "markdown",
   "id": "f307845e",
   "metadata": {},
   "source": [
    "## 4.3 Missing embarkation ports\n",
    "In order to populate the missing embarked ports I need to first determine if the people with the missing information may have been travelling with others."
   ]
  },
  {
   "cell_type": "code",
   "execution_count": 6,
   "id": "d93efcba",
   "metadata": {},
   "outputs": [
    {
     "data": {
      "text/html": [
       "<div>\n",
       "<style scoped>\n",
       "    .dataframe tbody tr th:only-of-type {\n",
       "        vertical-align: middle;\n",
       "    }\n",
       "\n",
       "    .dataframe tbody tr th {\n",
       "        vertical-align: top;\n",
       "    }\n",
       "\n",
       "    .dataframe thead th {\n",
       "        text-align: right;\n",
       "    }\n",
       "</style>\n",
       "<table border=\"1\" class=\"dataframe\">\n",
       "  <thead>\n",
       "    <tr style=\"text-align: right;\">\n",
       "      <th></th>\n",
       "      <th>PassengerId</th>\n",
       "      <th>Survived</th>\n",
       "      <th>Pclass</th>\n",
       "      <th>Name</th>\n",
       "      <th>Sex</th>\n",
       "      <th>Age</th>\n",
       "      <th>SibSp</th>\n",
       "      <th>Parch</th>\n",
       "      <th>Ticket</th>\n",
       "      <th>Fare</th>\n",
       "      <th>Cabin</th>\n",
       "      <th>Embarked</th>\n",
       "    </tr>\n",
       "  </thead>\n",
       "  <tbody>\n",
       "    <tr>\n",
       "      <th>61</th>\n",
       "      <td>62</td>\n",
       "      <td>1</td>\n",
       "      <td>1</td>\n",
       "      <td>Icard, Miss. Amelie</td>\n",
       "      <td>female</td>\n",
       "      <td>38.0</td>\n",
       "      <td>0</td>\n",
       "      <td>0</td>\n",
       "      <td>113572</td>\n",
       "      <td>80.0</td>\n",
       "      <td>B28</td>\n",
       "      <td>NaN</td>\n",
       "    </tr>\n",
       "    <tr>\n",
       "      <th>829</th>\n",
       "      <td>830</td>\n",
       "      <td>1</td>\n",
       "      <td>1</td>\n",
       "      <td>Stone, Mrs. George Nelson (Martha Evelyn)</td>\n",
       "      <td>female</td>\n",
       "      <td>62.0</td>\n",
       "      <td>0</td>\n",
       "      <td>0</td>\n",
       "      <td>113572</td>\n",
       "      <td>80.0</td>\n",
       "      <td>B28</td>\n",
       "      <td>NaN</td>\n",
       "    </tr>\n",
       "  </tbody>\n",
       "</table>\n",
       "</div>"
      ],
      "text/plain": [
       "     PassengerId  Survived  Pclass                                       Name  \\\n",
       "61            62         1       1                        Icard, Miss. Amelie   \n",
       "829          830         1       1  Stone, Mrs. George Nelson (Martha Evelyn)   \n",
       "\n",
       "        Sex   Age  SibSp  Parch  Ticket  Fare Cabin Embarked  \n",
       "61   female  38.0      0      0  113572  80.0   B28      NaN  \n",
       "829  female  62.0      0      0  113572  80.0   B28      NaN  "
      ]
     },
     "execution_count": 6,
     "metadata": {},
     "output_type": "execute_result"
    }
   ],
   "source": [
    "missing_ports = titanic_df[titanic_df['Embarked'].isnull()]\n",
    "missing_ports"
   ]
  },
  {
   "cell_type": "code",
   "execution_count": 7,
   "id": "02223c37",
   "metadata": {},
   "outputs": [
    {
     "data": {
      "text/html": [
       "<div>\n",
       "<style scoped>\n",
       "    .dataframe tbody tr th:only-of-type {\n",
       "        vertical-align: middle;\n",
       "    }\n",
       "\n",
       "    .dataframe tbody tr th {\n",
       "        vertical-align: top;\n",
       "    }\n",
       "\n",
       "    .dataframe thead th {\n",
       "        text-align: right;\n",
       "    }\n",
       "</style>\n",
       "<table border=\"1\" class=\"dataframe\">\n",
       "  <thead>\n",
       "    <tr style=\"text-align: right;\">\n",
       "      <th></th>\n",
       "      <th>PassengerId</th>\n",
       "      <th>Survived</th>\n",
       "      <th>Pclass</th>\n",
       "      <th>Name</th>\n",
       "      <th>Sex</th>\n",
       "      <th>Age</th>\n",
       "      <th>SibSp</th>\n",
       "      <th>Parch</th>\n",
       "      <th>Ticket</th>\n",
       "      <th>Fare</th>\n",
       "      <th>Cabin</th>\n",
       "      <th>Embarked</th>\n",
       "    </tr>\n",
       "  </thead>\n",
       "  <tbody>\n",
       "  </tbody>\n",
       "</table>\n",
       "</div>"
      ],
      "text/plain": [
       "Empty DataFrame\n",
       "Columns: [PassengerId, Survived, Pclass, Name, Sex, Age, SibSp, Parch, Ticket, Fare, Cabin, Embarked]\n",
       "Index: []"
      ]
     },
     "execution_count": 7,
     "metadata": {},
     "output_type": "execute_result"
    }
   ],
   "source": [
    "# search by ticket number and cabin\n",
    "titanic_df[(titanic_df['Embarked'].notnull()) & ((titanic_df['Ticket'] == '113572') | (titanic_df['Cabin'] == 'B28'))]"
   ]
  },
  {
   "cell_type": "markdown",
   "id": "8c8d9935",
   "metadata": {},
   "source": [
    "Since searching for similar records did not return any results and it appears that both were travelling in the same cabin and with the same ticket number and the bulk of passengers were travelling from Southhampton, I have choosen to use Southhampton as the missing value."
   ]
  },
  {
   "cell_type": "code",
   "execution_count": 8,
   "id": "61f360c2",
   "metadata": {},
   "outputs": [],
   "source": [
    "titanic_df['Embarked'].fillna('S',inplace=True)"
   ]
  },
  {
   "cell_type": "markdown",
   "id": "aa5d3736",
   "metadata": {},
   "source": [
    "## 4.4 Remove un-wanted columns\n",
    "Since the Cabin, Name and Ticket numbers are not required in this analysis I will remove them to improve the speed of processing the dataframe."
   ]
  },
  {
   "cell_type": "code",
   "execution_count": 9,
   "id": "88f136cf",
   "metadata": {},
   "outputs": [
    {
     "name": "stdout",
     "output_type": "stream",
     "text": [
      "<class 'pandas.core.frame.DataFrame'>\n",
      "RangeIndex: 891 entries, 0 to 890\n",
      "Data columns (total 9 columns):\n",
      " #   Column       Non-Null Count  Dtype  \n",
      "---  ------       --------------  -----  \n",
      " 0   PassengerId  891 non-null    int64  \n",
      " 1   Survived     891 non-null    int64  \n",
      " 2   Pclass       891 non-null    int64  \n",
      " 3   Sex          891 non-null    object \n",
      " 4   Age          891 non-null    float64\n",
      " 5   SibSp        891 non-null    int64  \n",
      " 6   Parch        891 non-null    int64  \n",
      " 7   Fare         891 non-null    float64\n",
      " 8   Embarked     891 non-null    object \n",
      "dtypes: float64(2), int64(5), object(2)\n",
      "memory usage: 62.8+ KB\n"
     ]
    }
   ],
   "source": [
    "# dropping columns Cabin, Name and Ticket\n",
    "titanic_df = titanic_df.drop(['Cabin','Name','Ticket'], axis=1)\n",
    "titanic_df.info()"
   ]
  },
  {
   "cell_type": "markdown",
   "id": "6796cbbf",
   "metadata": {},
   "source": [
    "## 4.5 Mapping data (values to descriptions)\n",
    "In order to intrepret the data easier the following fields need to be modified:\n",
    "\n",
    "Survived - changed to boolean (1 = True, 0 = False)\n",
    "Pclass - changed to Socio-Economic status (1st - Upper Class, 2nd - Middle Class, 3rd - Lower Class)\n",
    "Embarked - changed to name of embarkation port (C = Cherbourg; Q = Queenstown; S = Southampton)\n",
    "I will also add a Family Size column so that I can compare the size of families with the number of survivors."
   ]
  },
  {
   "cell_type": "code",
   "execution_count": 10,
   "id": "cb339048",
   "metadata": {},
   "outputs": [
    {
     "data": {
      "text/html": [
       "<div>\n",
       "<style scoped>\n",
       "    .dataframe tbody tr th:only-of-type {\n",
       "        vertical-align: middle;\n",
       "    }\n",
       "\n",
       "    .dataframe tbody tr th {\n",
       "        vertical-align: top;\n",
       "    }\n",
       "\n",
       "    .dataframe thead th {\n",
       "        text-align: right;\n",
       "    }\n",
       "</style>\n",
       "<table border=\"1\" class=\"dataframe\">\n",
       "  <thead>\n",
       "    <tr style=\"text-align: right;\">\n",
       "      <th></th>\n",
       "      <th>PassengerId</th>\n",
       "      <th>Survived</th>\n",
       "      <th>Pclass</th>\n",
       "      <th>Sex</th>\n",
       "      <th>Age</th>\n",
       "      <th>SibSp</th>\n",
       "      <th>Parch</th>\n",
       "      <th>Fare</th>\n",
       "      <th>Embarked</th>\n",
       "      <th>FamilySize</th>\n",
       "    </tr>\n",
       "  </thead>\n",
       "  <tbody>\n",
       "    <tr>\n",
       "      <th>0</th>\n",
       "      <td>1</td>\n",
       "      <td>False</td>\n",
       "      <td>Lower Class</td>\n",
       "      <td>male</td>\n",
       "      <td>22.0</td>\n",
       "      <td>1</td>\n",
       "      <td>0</td>\n",
       "      <td>7.2500</td>\n",
       "      <td>Southampton</td>\n",
       "      <td>1</td>\n",
       "    </tr>\n",
       "    <tr>\n",
       "      <th>1</th>\n",
       "      <td>2</td>\n",
       "      <td>True</td>\n",
       "      <td>Upper Class</td>\n",
       "      <td>female</td>\n",
       "      <td>38.0</td>\n",
       "      <td>1</td>\n",
       "      <td>0</td>\n",
       "      <td>71.2833</td>\n",
       "      <td>Cherbourg</td>\n",
       "      <td>1</td>\n",
       "    </tr>\n",
       "    <tr>\n",
       "      <th>2</th>\n",
       "      <td>3</td>\n",
       "      <td>True</td>\n",
       "      <td>Lower Class</td>\n",
       "      <td>female</td>\n",
       "      <td>26.0</td>\n",
       "      <td>0</td>\n",
       "      <td>0</td>\n",
       "      <td>7.9250</td>\n",
       "      <td>Southampton</td>\n",
       "      <td>0</td>\n",
       "    </tr>\n",
       "  </tbody>\n",
       "</table>\n",
       "</div>"
      ],
      "text/plain": [
       "   PassengerId  Survived       Pclass     Sex   Age  SibSp  Parch     Fare  \\\n",
       "0            1     False  Lower Class    male  22.0      1      0   7.2500   \n",
       "1            2      True  Upper Class  female  38.0      1      0  71.2833   \n",
       "2            3      True  Lower Class  female  26.0      0      0   7.9250   \n",
       "\n",
       "      Embarked  FamilySize  \n",
       "0  Southampton           1  \n",
       "1    Cherbourg           1  \n",
       "2  Southampton           0  "
      ]
     },
     "execution_count": 10,
     "metadata": {},
     "output_type": "execute_result"
    }
   ],
   "source": [
    "def map_data(df):\n",
    "    '''\n",
    "    Function which takes the original dataframe and returns a \n",
    "    clean / updated dataframe\n",
    "    '''\n",
    "    # survived map\n",
    "    survived_map = {0: False, 1: True}\n",
    "    df['Survived'] = df['Survived'].map(survived_map)\n",
    "\n",
    "    # PClass map\n",
    "    pclass_map = {1: 'Upper Class', 2: 'Middle Class', 3: 'Lower Class'}\n",
    "    df['Pclass'] = df['Pclass'].map(pclass_map)\n",
    "\n",
    "    # Embarkation port map\n",
    "    port_map = {'S': 'Southampton', 'C': 'Cherbourg','Q':'Queenstown'}\n",
    "    df['Embarked'] = df['Embarked'].map(port_map)\n",
    "    \n",
    "    # add new column (FamilySize) to dataframe - sum of SibSp and Parch\n",
    "    df['FamilySize'] = df['SibSp'] + df['Parch']\n",
    "    \n",
    "    return df\n",
    "\n",
    "titanic_df = map_data(titanic_df)\n",
    "titanic_df.head(3)"
   ]
  },
  {
   "cell_type": "markdown",
   "id": "4d0c8459",
   "metadata": {},
   "source": [
    "## 4.6 Grouping / Binning Ages\n",
    "To make the ages easier to analyse I thought it would be a good idea to group / bin the ages. This way we can compare groups of ages instead of individual ages."
   ]
  },
  {
   "cell_type": "code",
   "execution_count": 11,
   "id": "063d3842",
   "metadata": {},
   "outputs": [
    {
     "data": {
      "text/html": [
       "<div>\n",
       "<style scoped>\n",
       "    .dataframe tbody tr th:only-of-type {\n",
       "        vertical-align: middle;\n",
       "    }\n",
       "\n",
       "    .dataframe tbody tr th {\n",
       "        vertical-align: top;\n",
       "    }\n",
       "\n",
       "    .dataframe thead th {\n",
       "        text-align: right;\n",
       "    }\n",
       "</style>\n",
       "<table border=\"1\" class=\"dataframe\">\n",
       "  <thead>\n",
       "    <tr style=\"text-align: right;\">\n",
       "      <th></th>\n",
       "      <th>PassengerId</th>\n",
       "      <th>Survived</th>\n",
       "      <th>Pclass</th>\n",
       "      <th>Sex</th>\n",
       "      <th>Age</th>\n",
       "      <th>SibSp</th>\n",
       "      <th>Parch</th>\n",
       "      <th>Fare</th>\n",
       "      <th>Embarked</th>\n",
       "      <th>FamilySize</th>\n",
       "      <th>age_group</th>\n",
       "    </tr>\n",
       "  </thead>\n",
       "  <tbody>\n",
       "    <tr>\n",
       "      <th>0</th>\n",
       "      <td>1</td>\n",
       "      <td>False</td>\n",
       "      <td>Lower Class</td>\n",
       "      <td>male</td>\n",
       "      <td>22.0</td>\n",
       "      <td>1</td>\n",
       "      <td>0</td>\n",
       "      <td>7.2500</td>\n",
       "      <td>Southampton</td>\n",
       "      <td>1</td>\n",
       "      <td>20-29</td>\n",
       "    </tr>\n",
       "    <tr>\n",
       "      <th>1</th>\n",
       "      <td>2</td>\n",
       "      <td>True</td>\n",
       "      <td>Upper Class</td>\n",
       "      <td>female</td>\n",
       "      <td>38.0</td>\n",
       "      <td>1</td>\n",
       "      <td>0</td>\n",
       "      <td>71.2833</td>\n",
       "      <td>Cherbourg</td>\n",
       "      <td>1</td>\n",
       "      <td>30-39</td>\n",
       "    </tr>\n",
       "    <tr>\n",
       "      <th>2</th>\n",
       "      <td>3</td>\n",
       "      <td>True</td>\n",
       "      <td>Lower Class</td>\n",
       "      <td>female</td>\n",
       "      <td>26.0</td>\n",
       "      <td>0</td>\n",
       "      <td>0</td>\n",
       "      <td>7.9250</td>\n",
       "      <td>Southampton</td>\n",
       "      <td>0</td>\n",
       "      <td>20-29</td>\n",
       "    </tr>\n",
       "  </tbody>\n",
       "</table>\n",
       "</div>"
      ],
      "text/plain": [
       "   PassengerId  Survived       Pclass     Sex   Age  SibSp  Parch     Fare  \\\n",
       "0            1     False  Lower Class    male  22.0      1      0   7.2500   \n",
       "1            2      True  Upper Class  female  38.0      1      0  71.2833   \n",
       "2            3      True  Lower Class  female  26.0      0      0   7.9250   \n",
       "\n",
       "      Embarked  FamilySize age_group  \n",
       "0  Southampton           1     20-29  \n",
       "1    Cherbourg           1     30-39  \n",
       "2  Southampton           0     20-29  "
      ]
     },
     "execution_count": 11,
     "metadata": {},
     "output_type": "execute_result"
    }
   ],
   "source": [
    "age_labels = ['0-9', '10-19', '20-29', '30-39', '40-49', '50-59', '60-69', '70-79']\n",
    "titanic_df['age_group'] = pd.cut(titanic_df.Age, range(0, 81, 10), right=False, labels=age_labels)\n",
    "titanic_df.head(3)"
   ]
  },
  {
   "cell_type": "markdown",
   "id": "50f75f23",
   "metadata": {},
   "source": [
    "# 5. Analysis of data\n",
    "## 5.1 Number of Survivors"
   ]
  },
  {
   "cell_type": "code",
   "execution_count": 12,
   "id": "af08660d",
   "metadata": {},
   "outputs": [],
   "source": [
    "survivors_data = titanic_df[titanic_df.Survived==True]\n",
    "non_survivors_data = titanic_df[titanic_df.Survived==False]"
   ]
  },
  {
   "cell_type": "markdown",
   "id": "092f988c",
   "metadata": {},
   "source": [
    "## 5.2 Which gender had a better chance of survival?\n",
    "In order to answer this question we need to look at how many males and females were on board and which gender had the highest survival rate."
   ]
  },
  {
   "cell_type": "markdown",
   "id": "ea541e91",
   "metadata": {},
   "source": [
    "### Count of Survivors by Gender"
   ]
  },
  {
   "cell_type": "code",
   "execution_count": 14,
   "id": "067d206d",
   "metadata": {},
   "outputs": [
    {
     "name": "stdout",
     "output_type": "stream",
     "text": [
      "Sex       female  male\n",
      "Survived              \n",
      "False         81   468\n",
      "True         233   109\n"
     ]
    }
   ],
   "source": [
    "table = pd.crosstab(titanic_df['Survived'],titanic_df['Sex'])\n",
    "print(table)"
   ]
  },
  {
   "cell_type": "markdown",
   "id": "752bec0e",
   "metadata": {},
   "source": [
    "### Proportion of survivors by Gender"
   ]
  },
  {
   "cell_type": "code",
   "execution_count": 15,
   "id": "2df52b44",
   "metadata": {},
   "outputs": [
    {
     "name": "stdout",
     "output_type": "stream",
     "text": [
      "Sex\n",
      "female    0.742038\n",
      "male      0.188908\n",
      "Name: Survived, dtype: float64\n"
     ]
    }
   ],
   "source": [
    "print(titanic_df.groupby('Sex').Survived.mean())"
   ]
  },
  {
   "cell_type": "code",
   "execution_count": 16,
   "id": "32fe1c77",
   "metadata": {},
   "outputs": [
    {
     "data": {
      "text/plain": [
       "Text(0.5, 1.0, '% of survivors by gender')"
      ]
     },
     "execution_count": 16,
     "metadata": {},
     "output_type": "execute_result"
    },
    {
     "data": {
      "image/png": "[encoded data removed]",
      "text/plain": [
       "<Figure size 720x360 with 2 Axes>"
      ]
     },
     "metadata": {
      "needs_background": "light"
     },
     "output_type": "display_data"
    }
   ],
   "source": [
    "# calculate values for each survival status\n",
    "survivors_gender = survivors_data.groupby(['Sex']).size().values\n",
    "non_survivors_gender = non_survivors_data.groupby(['Sex']).size().values\n",
    "\n",
    "# calculate totals for percentates\n",
    "totals = survivors_gender + non_survivors_gender\n",
    "\n",
    "# use calculate_percentage_function to calculate percentage of the total\n",
    "data1_percentages = calculate_percentage(survivors_gender, totals)*100 \n",
    "data2_percentages = calculate_percentage(non_survivors_gender, totals)*100 \n",
    "\n",
    "gender_categories = ['Female', 'Male']\n",
    "\n",
    "f, (ax1, ax2) = plt.subplots(1, 2, figsize=(10,5))\n",
    "# plot chart for count of survivors by class\n",
    "ax1.bar(range(len(survivors_gender)), survivors_gender, label='Survivors', alpha=0.5, color='g')\n",
    "ax1.bar(range(len(non_survivors_gender)), non_survivors_gender, bottom=survivors_gender, label='Non-Survivors', alpha=0.5, color='r')\n",
    "plt.sca(ax1)\n",
    "plt.xticks([0.4, 1.4], gender_categories )\n",
    "ax1.set_ylabel(\"Count\")\n",
    "ax1.set_xlabel(\"\")\n",
    "ax1.set_title(\"Count of survivors by gender\",fontsize=14)\n",
    "plt.legend(loc='upper left')\n",
    "\n",
    "# plot chart for percentage of survivors by class\n",
    "ax2.bar(range(len(data1_percentages)), data1_percentages, alpha=0.5, color='g')\n",
    "ax2.bar(range(len(data2_percentages)), data2_percentages, bottom=data1_percentages, alpha=0.5, color='r')\n",
    "plt.sca(ax2)\n",
    "plt.xticks([0.4, 1.4],  gender_categories)\n",
    "ax2.set_ylabel(\"Percentage\")\n",
    "ax2.set_xlabel(\"\")\n",
    "ax2.set_title(\"% of survivors by gender\",fontsize=14)"
   ]
  },
  {
   "cell_type": "markdown",
   "id": "efc39092",
   "metadata": {},
   "source": [
    "The plots and proportions above show that there were a significant more males on board the Titanic compared to the number of females. Whilst the second plot (% of survivors by gender) shows that Females had a higher proportion (74.2%) of survivors compared to the proportion of males (18.9%). This shows that females had a greater rate of survival."
   ]
  },
  {
   "cell_type": "markdown",
   "id": "dcbfc375",
   "metadata": {},
   "source": [
    "## 5.3 Which social class had a better chance of survival?"
   ]
  },
  {
   "cell_type": "markdown",
   "id": "05549e68",
   "metadata": {},
   "source": [
    "### Count of survivors by class"
   ]
  },
  {
   "cell_type": "code",
   "execution_count": null,
   "id": "72a3e486",
   "metadata": {},
   "outputs": [],
   "source": [
    "# CODE HERE"
   ]
  },
  {
   "cell_type": "code",
   "execution_count": 19,
   "id": "70a0fb47",
   "metadata": {},
   "outputs": [
    {
     "name": "stdout",
     "output_type": "stream",
     "text": [
      "Pclass    Lower Class  Middle Class  Upper Class\n",
      "Survived                                        \n",
      "False             372            97           80\n",
      "True              119            87          136\n"
     ]
    }
   ],
   "source": []
  },
  {
   "cell_type": "markdown",
   "id": "a917946d",
   "metadata": {},
   "source": [
    "### Proportion of survivors by class"
   ]
  },
  {
   "cell_type": "code",
   "execution_count": null,
   "id": "36ac52e8",
   "metadata": {},
   "outputs": [],
   "source": [
    "# CODE HERE"
   ]
  },
  {
   "cell_type": "code",
   "execution_count": 20,
   "id": "df2dd8f1",
   "metadata": {},
   "outputs": [
    {
     "name": "stdout",
     "output_type": "stream",
     "text": [
      "Pclass\n",
      "Lower Class     0.242363\n",
      "Middle Class    0.472826\n",
      "Upper Class     0.629630\n",
      "Name: Survived, dtype: float64\n"
     ]
    }
   ],
   "source": []
  },
  {
   "cell_type": "code",
   "execution_count": null,
   "id": "09464a3a",
   "metadata": {},
   "outputs": [],
   "source": [
    "# CODE HERE"
   ]
  },
  {
   "cell_type": "code",
   "execution_count": 21,
   "id": "a9379f2d",
   "metadata": {},
   "outputs": [
    {
     "data": {
      "text/plain": [
       "Text(0.5, 1.0, '% of survivors by class')"
      ]
     },
     "execution_count": 21,
     "metadata": {},
     "output_type": "execute_result"
    },
    {
     "data": {
      "image/png": "[encoded data removed]",
      "text/plain": [
       "<Figure size 720x360 with 2 Axes>"
      ]
     },
     "metadata": {
      "needs_background": "light"
     },
     "output_type": "display_data"
    }
   ],
   "source": []
  },
  {
   "cell_type": "markdown",
   "id": "081e4935",
   "metadata": {},
   "source": [
    "The graphs above so that whilst the lower class had more passengers, than all classes, and more survivors than the middle class, the lower class had the lowest survival rate. The Upper Class passengers had the highest survival rate"
   ]
  },
  {
   "cell_type": "markdown",
   "id": "db58750d",
   "metadata": {},
   "source": [
    "## 5.4 Which age group had a better chance of survival?"
   ]
  },
  {
   "cell_type": "markdown",
   "id": "7391c819",
   "metadata": {},
   "source": [
    "### Distribution of Age Groups"
   ]
  },
  {
   "cell_type": "code",
   "execution_count": 22,
   "id": "164f291a",
   "metadata": {},
   "outputs": [
    {
     "data": {
      "image/png": "[encoded data removed]",
      "text/plain": [
       "<Figure size 432x288 with 1 Axes>"
      ]
     },
     "metadata": {
      "needs_background": "light"
     },
     "output_type": "display_data"
    }
   ],
   "source": [
    "titanic_df.groupby(['age_group']).size().plot(kind='bar',stacked=True)\n",
    "plt.title(\"Distribution of Age Groups\",fontsize=14)\n",
    "plt.ylabel('Count')\n",
    "plt.xlabel('Age Group');"
   ]
  },
  {
   "cell_type": "markdown",
   "id": "5d2c26dc",
   "metadata": {},
   "source": [
    "From the plot above we can see that the majority of passengers were aged between 20-29"
   ]
  },
  {
   "cell_type": "markdown",
   "id": "a40b7fd2",
   "metadata": {},
   "source": [
    "### Proportion of survivors by age group"
   ]
  },
  {
   "cell_type": "code",
   "execution_count": null,
   "id": "bb15661a",
   "metadata": {},
   "outputs": [],
   "source": [
    "# CODE HERE"
   ]
  },
  {
   "cell_type": "code",
   "execution_count": 23,
   "id": "68611aad",
   "metadata": {},
   "outputs": [
    {
     "name": "stdout",
     "output_type": "stream",
     "text": [
      "age_group\n",
      "0-9      0.612903\n",
      "10-19    0.401961\n",
      "20-29    0.315642\n",
      "30-39    0.454054\n",
      "40-49    0.354545\n",
      "50-59    0.416667\n",
      "60-69    0.315789\n",
      "70-79    0.000000\n",
      "Name: Survived, dtype: float64\n"
     ]
    }
   ],
   "source": []
  },
  {
   "cell_type": "code",
   "execution_count": null,
   "id": "9d84bc5f",
   "metadata": {},
   "outputs": [],
   "source": [
    "# CODE HERE"
   ]
  },
  {
   "cell_type": "code",
   "execution_count": 24,
   "id": "a837b4ab",
   "metadata": {},
   "outputs": [
    {
     "data": {
      "text/plain": [
       "Text(0.5, 1.0, '% of survivors by age group')"
      ]
     },
     "execution_count": 24,
     "metadata": {},
     "output_type": "execute_result"
    },
    {
     "data": {
      "image/png": "[encoded data removed]",
      "text/plain": [
       "<Figure size 720x360 with 2 Axes>"
      ]
     },
     "metadata": {
      "needs_background": "light"
     },
     "output_type": "display_data"
    }
   ],
   "source": []
  },
  {
   "cell_type": "markdown",
   "id": "47c01d3f",
   "metadata": {},
   "source": [
    "When looking at proportions and percentages of survivors per age group, initially I was suprised by the results, until I thought that this analysis shoudl take into consideration the gender / sex of the passengers as well."
   ]
  },
  {
   "cell_type": "code",
   "execution_count": 25,
   "id": "bf6d69b7",
   "metadata": {},
   "outputs": [
    {
     "name": "stdout",
     "output_type": "stream",
     "text": [
      "Sex     age_group\n",
      "female  0-9          0.633333\n",
      "        10-19        0.755556\n",
      "        20-29        0.681034\n",
      "        30-39        0.855072\n",
      "        40-49        0.687500\n",
      "        50-59        0.888889\n",
      "        60-69        1.000000\n",
      "        70-79             NaN\n",
      "male    0-9          0.593750\n",
      "        10-19        0.122807\n",
      "        20-29        0.140496\n",
      "        30-39        0.215517\n",
      "        40-49        0.217949\n",
      "        50-59        0.133333\n",
      "        60-69        0.133333\n",
      "        70-79        0.000000\n",
      "Name: Survived, dtype: float64\n"
     ]
    }
   ],
   "source": [
    "print(titanic_df.groupby(['Sex','age_group']).Survived.mean())"
   ]
  },
  {
   "cell_type": "code",
   "execution_count": 26,
   "id": "e4755a57",
   "metadata": {},
   "outputs": [
    {
     "data": {
      "image/png": "[encoded data removed]",
      "text/plain": [
       "<Figure size 432x288 with 1 Axes>"
      ]
     },
     "metadata": {
      "needs_background": "light"
     },
     "output_type": "display_data"
    }
   ],
   "source": [
    "male_data = titanic_df[titanic_df.Sex == \"male\"].groupby('age_group').Survived.mean().values\n",
    "female_data = titanic_df[titanic_df.Sex == \"female\"].groupby('age_group').Survived.mean().values\n",
    "ax = plt.subplot()\n",
    "male_plt_position = np.array(range(len(age_labels)))\n",
    "female_plt_position = np.array(range(len(age_labels)))+0.4\n",
    "ax.bar(male_plt_position, male_data,width=0.4,label='Male',color='b')\n",
    "ax.bar(female_plt_position, female_data,width=0.4,label='Female',color='r')\n",
    "plt.xticks(tick_spacing,  age_labels)\n",
    "ax.set_ylabel(\"Proportion\")\n",
    "ax.set_xlabel(\"Age Group\")\n",
    "ax.set_title(\"Proportion of survivors by age group / Gender\",fontsize=14)\n",
    "plt.legend(loc='best')\n",
    "plt.show()"
   ]
  },
  {
   "cell_type": "markdown",
   "id": "fedf746a",
   "metadata": {},
   "source": [
    "After relooking at the proportion of survivors by age group and gender, the data supports notion of women and children to be given preferential treatment over men. The plot \"Proportion of survivors by age group / gender\", shows that children (0-9 years old, male and female) and women (all ages) had a much higher proportion of survivors. This supports the notion of the seats in the lifeboats been given to Women and Children first."
   ]
  },
  {
   "cell_type": "markdown",
   "id": "acc44cc1",
   "metadata": {},
   "source": [
    "# 6. Conclusion\n",
    "## 6.1 Limitations of dataset\n",
    "The are a number of limitations with the Titanic Dataset, which are caused by:\n",
    "\n",
    "* missing data\n",
    "* only been a sample of the data\n",
    "\n",
    "The missing data and size of the sample could skew the results for example the missing ages."
   ]
  },
  {
   "cell_type": "code",
   "execution_count": 28,
   "id": "3d1b5731",
   "metadata": {},
   "outputs": [
    {
     "name": "stdout",
     "output_type": "stream",
     "text": [
      "Sex\n",
      "female     53\n",
      "male      124\n",
      "dtype: int64\n"
     ]
    }
   ],
   "source": [
    "print(missing_ages.groupby('Sex').size())"
   ]
  },
  {
   "cell_type": "markdown",
   "id": "80506897",
   "metadata": {},
   "source": [
    "The above shows that there were 53 ages missing for females and 124 ages missing for males. I had a choice with how to handle the missing ages each with their pros and cons.\n",
    "\n",
    "delete the rows with the missing ages - this would limit the accuracy of the analysis of the gender and class, however the accuracy of the analysis of the Age factor would be more accurate\n",
    "generate ages based on the mean of ages - this could skew the results of the age analysis. In section 4.2, I choose this option, however I based the ages on the average for the Gender and Class.\n",
    "The size of the sample data could also impact the results as we don't know if this is a random sample or if the selection of the data is biased or unbiased."
   ]
  },
  {
   "cell_type": "markdown",
   "id": "a2fb14b8",
   "metadata": {},
   "source": [
    "## 6.2 Other variables\n",
    "As with most datasets the more information we have the better it can be analysed. I believe that we could add the following variables:\n",
    "\n",
    "* passenger or crew - the current dataset doesn't distingush between passenger or crew, however from history we know that a mixture of both survived.\n",
    "* life boat number - the reason why there were so many fatalities on board the Titanic was due to there not been enough lifeboats. I believe that if we knew the lifeboat number and the capacity of a lifeboat we could determine if it was possible for more people to survive"
   ]
  },
  {
   "cell_type": "code",
   "execution_count": null,
   "id": "bd1e737f",
   "metadata": {},
   "outputs": [],
   "source": []
  }
 ],
 "metadata": {
  "kernelspec": {
   "display_name": "Python 3 (ipykernel)",
   "language": "python",
   "name": "python3"
  },
  "language_info": {
   "codemirror_mode": {
    "name": "ipython",
    "version": 3
   },
   "file_extension": ".py",
   "mimetype": "text/x-python",
   "name": "python",
   "nbconvert_exporter": "python",
   "pygments_lexer": "ipython3",
   "version": "3.9.10"
  }
 },
 "nbformat": 4,
 "nbformat_minor": 5
}
