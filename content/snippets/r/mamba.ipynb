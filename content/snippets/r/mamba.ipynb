{
 "cells": [
  {
   "attachments": {},
   "cell_type": "markdown",
   "metadata": {},
   "source": [
    "---\n",
    "title: Create an R environment using Mamba (a faster alternative to Conda)\n",
    "author: \"Nguyễn Ngọc Bình\"\n",
    "---"
   ]
  },
  {
   "attachments": {},
   "cell_type": "markdown",
   "metadata": {},
   "source": [
    "1. **Install Mamba**:\n",
    "   If you haven't already installed Mamba, you can do so by running the following command in your terminal or command prompt:\n",
    "\n",
    "   ```\n",
    "   conda install mamba -c conda-forge\n",
    "   ```\n",
    "\n",
    "2. **Create a YAML File**:\n",
    "   Create a YAML file (e.g., `r_environment.yml`) to specify the packages and dependencies for your R environment. Here's an example YAML file:\n",
    "\n",
    "   ```yaml\n",
    "   name: r_env\n",
    "   channels:\n",
    "     - r\n",
    "     - conda-forge\n",
    "   dependencies:\n",
    "     - r=4.1\n",
    "     - r-ggplot2\n",
    "     - r-dplyr\n",
    "     - r-tidymodels\n",
    "     - r-mlr3\n",
    "     - r-lightgbm\n",
    "     - r-pROC\n",
    "     # Add more R packages as needed\n",
    "   ```\n",
    "\n",
    "   In this example, we've included R version 4.1 along with several R packages such as `ggplot2`, `dplyr`, `tidymodels`, `mlr3`, `lightgbm`, and `pROC`. Adjust the list of packages to match your specific requirements.\n",
    "\n",
    "3. **Create the Environment**:\n",
    "   To create the R environment using Mamba and the YAML file, run the following command:\n",
    "\n",
    "   ```\n",
    "   mamba env create -f r_environment.yml\n",
    "   ```\n",
    "\n",
    "   This will create a new Mamba environment named `r_env` and install the specified R packages and their dependencies.\n",
    "\n",
    "4. **Activate the Environment**:\n",
    "   Activate the newly created environment with the following command:\n",
    "\n",
    "   ```\n",
    "   conda activate r_env\n",
    "   ```\n",
    "\n",
    "   Now, you're working within the `r_env` environment.\n",
    "\n",
    "5. **Install Additional R Packages**:\n",
    "   You can install additional R packages within the Mamba environment using the R console, just like you would in a regular R environment. For example:\n",
    "\n",
    "   ```R\n",
    "   install.packages(\"new_package\")\n",
    "   ```\n",
    "\n",
    "6. **Deactivate the Environment**:\n",
    "   When you're finished working in the R environment, deactivate it by running:\n",
    "\n",
    "   ```\n",
    "   conda deactivate\n",
    "   ```\n",
    "\n",
    "   This will return you to the base Conda environment or system environment.\n",
    "\n",
    "By following these steps, you can create and manage an R environment using Mamba, which offers improved speed and efficiency compared to Conda for package and environment management."
   ]
  }
 ],
 "metadata": {
  "kernelspec": {
   "display_name": "rdm",
   "language": "python",
   "name": "python3"
  },
  "language_info": {
   "name": "python",
   "version": "3.10.11"
  },
  "orig_nbformat": 4,
  "vscode": {
   "interpreter": {
    "hash": "b0fc7d2c5e3b32912b68ef575c1bdd2ee7ee3f28f2d636d660b71751dc8fb34a"
   }
  }
 },
 "nbformat": 4,
 "nbformat_minor": 2
}
