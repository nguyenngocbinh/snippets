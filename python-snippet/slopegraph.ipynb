{
 "cells": [
  {
   "attachments": {},
   "cell_type": "raw",
   "metadata": {},
   "source": [
    "---\n",
    "title: Slopegraphs \n",
    "author: \"Nguyễn Ngọc Bình\"\n",
    "---"
   ]
  },
  {
   "attachments": {},
   "cell_type": "markdown",
   "metadata": {},
   "source": [
    "# Slopegraphs \n",
    "\n",
    "Một slopegraph là một loại biểu đồ trực quan hóa dữ liệu, hiển thị sự thay đổi giữa hai điểm thời gian hoặc giữa hai điều kiện. Edward Tufte đã giới thiệu khái niệm này trong cuốn sách của ông \"The Visual Display of Quantitative Information\" vào năm 1983. Slopegraphs đặc biệt hữu ích để trực quan hóa sự thay đổi tương đối giữa hai điểm dữ liệu qua nhiều hạng mục.\n",
    "\n",
    "Dưới đây là một ý tưởng tổng quan về cách slopegraph hoạt động:\n",
    "\n",
    "1. **Hai trục**: Có hai trục dọc, một cho điểm thời gian ban đầu (hoặc điều kiện) và một cho điểm thời gian cuối cùng (hoặc điều kiện). Hai trục này song song và thường có cùng một tỷ lệ.\n",
    "\n",
    "2. **Hạng mục**: Nhiều hạng mục hoặc mục được liệt kê giữa hai trục. Đối với mỗi hạng mục, có một điểm dữ liệu trên mỗi trục.\n",
    "\n",
    "3. **Độ dốc**: Các đường được vẽ nối các điểm dữ liệu cho mỗi hạng mục giữa hai trục. Độ dốc của các đường này cho thấy sự thay đổi giá trị cho mỗi hạng mục. Độ dốc dương cho thấy sự tăng lên, trong khi độ dốc âm cho thấy sự giảm đi.\n",
    "\n",
    "4. **So sánh**: Người xem có thể dễ dàng so sánh sự thay đổi giá trị qua các hạng mục bằng cách nhìn vào độ dốc của các đường.\n",
    "\n",
    "Những ưu điểm chính của slopegraphs là:\n",
    "\n",
    "- **Đơn giản**: Chúng dễ hiểu, ngay cả đối với những người không quen thuộc với các kỹ thuật trực quan hóa dữ liệu.\n",
    "\n",
    "- **Khả năng so sánh**: Tính chất hai trục đứng cạnh nhau giúp dễ dàng so sánh sự thay đổi giữa nhiều hạng mục chỉ qua một cái nhìn.\n",
    "\n",
    "- **Nhấn mạnh sự thay đổi**: Slopegraphs đặc biệt hiệu quả khi nêu bật sự khác biệt trong sự thay đổi, thay vì giá trị tuyệt đối.\n",
    "\n",
    "Tuy nhiên, chúng có thể không phải là lựa chọn tốt nhất khi:\n",
    "\n",
    "- Có quá nhiều hạng mục, làm cho biểu đồ bị rối và khó diễn giải.\n",
    "\n",
    "- Các điểm dữ liệu quá gần nhau, dẫn đến việc các đường chồng lên nhau.\n",
    "\n",
    "- Cần trực quan hóa nhiều hơn hai điểm thời gian hoặc điều kiện.\n"
   ]
  },
  {
   "cell_type": "code",
   "execution_count": 17,
   "metadata": {},
   "outputs": [
    {
     "data": {
      "text/html": [
       "\n",
       "            <div id=\"1uo7pD\"></div>\n",
       "            <script type=\"text/javascript\" data-lets-plot-script=\"library\">\n",
       "                if(!window.letsPlotCallQueue) {\n",
       "                    window.letsPlotCallQueue = [];\n",
       "                }; \n",
       "                window.letsPlotCall = function(f) {\n",
       "                    window.letsPlotCallQueue.push(f);\n",
       "                };\n",
       "                (function() {\n",
       "                    var script = document.createElement(\"script\");\n",
       "                    script.type = \"text/javascript\";\n",
       "                    script.src = \"https://cdn.jsdelivr.net/gh/JetBrains/lets-plot@v3.2.0/js-package/distr/lets-plot.min.js\";\n",
       "                    script.onload = function() {\n",
       "                        window.letsPlotCall = function(f) {f();};\n",
       "                        window.letsPlotCallQueue.forEach(function(f) {f();});\n",
       "                        window.letsPlotCallQueue = [];\n",
       "                        \n",
       "                    };\n",
       "                    script.onerror = function(event) {\n",
       "                        window.letsPlotCall = function(f) {};    // noop\n",
       "                        window.letsPlotCallQueue = [];\n",
       "                        var div = document.createElement(\"div\");\n",
       "                        div.style.color = 'darkred';\n",
       "                        div.textContent = 'Error loading Lets-Plot JS';\n",
       "                        document.getElementById(\"1uo7pD\").appendChild(div);\n",
       "                    };\n",
       "                    var e = document.getElementById(\"1uo7pD\");\n",
       "                    e.appendChild(script);\n",
       "                })()\n",
       "            </script>\n",
       "            "
      ]
     },
     "metadata": {},
     "output_type": "display_data"
    },
    {
     "data": {
      "text/html": [
       "   <div id=\"5CJ8MJ\"></div>\n",
       "   <script type=\"text/javascript\" data-lets-plot-script=\"plot\">\n",
       "       (function() {\n",
       "           var plotSpec={\n",
       "\"data\":{\n",
       "\"Year\":[\"2020\",\"2020\",\"2020\",\"2023\",\"2023\",\"2023\"],\n",
       "\"Country\":[\"Country A\",\"Country B\",\"Country C\",\"Country A\",\"Country B\",\"Country C\"],\n",
       "\"GDP\":[1000.0,1200.0,800.0,1300.0,1250.0,820.0]\n",
       "},\n",
       "\"mapping\":{\n",
       "\"x\":\"Year\",\n",
       "\"y\":\"GDP\",\n",
       "\"group\":\"Country\"\n",
       "},\n",
       "\"data_meta\":{\n",
       "},\n",
       "\"ggtitle\":{\n",
       "\"text\":\"Slopegraph: GDP Change from 2020 to 2023\"\n",
       "},\n",
       "\"coord\":{\n",
       "\"name\":\"fixed\",\n",
       "\"ratio\":0.002,\n",
       "\"flip\":false\n",
       "},\n",
       "\"theme\":{\n",
       "\"axis_text_x\":{\n",
       "\"angle\":45.0,\n",
       "\"hjust\":1.0,\n",
       "\"blank\":false\n",
       "},\n",
       "\"legend_position\":\"none\"\n",
       "},\n",
       "\"kind\":\"plot\",\n",
       "\"scales\":[],\n",
       "\"layers\":[{\n",
       "\"geom\":\"line\",\n",
       "\"mapping\":{\n",
       "\"color\":\"Country\"\n",
       "},\n",
       "\"data_meta\":{\n",
       "},\n",
       "\"size\":1.5,\n",
       "\"data\":{\n",
       "}\n",
       "},{\n",
       "\"geom\":\"point\",\n",
       "\"mapping\":{\n",
       "\"color\":\"Country\"\n",
       "},\n",
       "\"data_meta\":{\n",
       "},\n",
       "\"size\":3.0,\n",
       "\"data\":{\n",
       "}\n",
       "}],\n",
       "\"metainfo_list\":[]\n",
       "};\n",
       "           var plotContainer = document.getElementById(\"5CJ8MJ\");\n",
       "           window.letsPlotCall(function() {{\n",
       "               LetsPlot.buildPlotFromProcessedSpecs(plotSpec, -1, -1, plotContainer);\n",
       "           }});\n",
       "       })();    \n",
       "   </script>"
      ],
      "text/plain": [
       "<lets_plot.plot.core.PlotSpec at 0x22986c8eec0>"
      ]
     },
     "execution_count": 17,
     "metadata": {},
     "output_type": "execute_result"
    }
   ],
   "source": [
    "import pandas as pd\n",
    "from lets_plot import *\n",
    "LetsPlot.setup_html()\n",
    "\n",
    "# Sample data\n",
    "countries = ['Country A', 'Country B', 'Country C']\n",
    "gdp_2020 = [1000, 1200, 800]\n",
    "gdp_2023 = [1300, 1250, 820]\n",
    "\n",
    "# Create a dataframe\n",
    "df_2020 = pd.DataFrame({'Year': '2020', 'Country': countries, 'GDP': gdp_2020})\n",
    "df_2023 = pd.DataFrame({'Year': '2023', 'Country': countries, 'GDP': gdp_2023})\n",
    "df = pd.concat([df_2020, df_2023])\n",
    "\n",
    "# Slopegraph\n",
    "slopegraph = ggplot(df, aes(x='Year', y='GDP', group='Country')) + \\\n",
    "    geom_line(aes(color='Country'), size=1.5) + \\\n",
    "    geom_point(aes(color='Country'), size=3) + \\\n",
    "    ggtitle(\"Slopegraph: GDP Change from 2020 to 2023\") + \\\n",
    "    coord_fixed(ratio=0.002) + \\\n",
    "    theme(axis_text_x=element_text(angle=45, hjust=1)) + \\\n",
    "    theme(legend_position='none')\n",
    "\n",
    "slopegraph"
   ]
  },
  {
   "attachments": {},
   "cell_type": "markdown",
   "metadata": {},
   "source": [
    "### So sánh: Slopegraph và Barchart\n",
    "\n",
    "| Yếu tố           | Slopegraph                                                                                                                                                 | Barchart                                                                                                                                          |\n",
    "|------------------|-----------------------------------------------------------------------------------------------------------------------------------------------------------|---------------------------------------------------------------------------------------------------------------------------------------------------|\n",
    "| **Mục đích**    | Thiết kế để hiển thị sự thay đổi giữa hai điểm thời gian hoặc hai điều kiện. Hiệu quả khi trực quan hóa sự thay đổi tương đối qua nhiều hạng mục.    | Đa dạng và có thể biểu diễn số lượng cho dữ liệu danh mục. Hiển thị giá trị tuyệt đối cho các hạng mục khác nhau hoặc phân bố dữ liệu.             |\n",
    "| **Yếu tố trực quan** | Sử dụng hai trục dọc với các đường nối các điểm dữ liệu giữa các trục. Độ dốc của các đường này biểu thị sự thay đổi.                                       | Sử dụng các thanh có chiều dài (hoặc chiều cao) biến thiên để biểu diễn giá trị. Chiều dài hoặc chiều cao của mỗi thanh tỷ lệ thuận với giá trị nó biểu diễn. |\n",
    "| **Ưu điểm**     | - Nhấn mạnh sự thay đổi tương đối giữa hai điểm dữ liệu. <br> - So sánh rõ ràng cạnh nhau. <br> - Đơn giản và tối giản.                                     | - Dễ hiểu và được công nhận rộng rãi. <br> - Có thể biểu diễn nhiều hạng mục. <br> - Có thể sử dụng cho cả dữ liệu danh danh và thứ tự.         |\n",
    "| **Hạn chế**     | - Tốt nhất khi so sánh chỉ hai điểm. <br> - Có thể bị rối khi có nhiều hạng mục hoặc các điểm dữ liệu gần nhau. <br> - Không lý tưởng để hiển thị giá trị tuyệt đối. | - Không nhấn mạnh sự thay đổi tương đối một cách hiệu quả. <br> - Có thể bị rối với nhiều hạng mục. <br> - Yêu cầu nhiều không gian hơn so với các loại biểu đồ khác. |\n",
    "\n",
    "---\n",
    "\n"
   ]
  },
  {
   "cell_type": "code",
   "execution_count": 18,
   "metadata": {},
   "outputs": [
    {
     "data": {
      "text/html": [
       "   <div id=\"EOZTQd\"></div>\n",
       "   <script type=\"text/javascript\" data-lets-plot-script=\"plot\">\n",
       "       (function() {\n",
       "           var plotSpec={\n",
       "\"data\":{\n",
       "\"Year\":[\"2020\",\"2020\",\"2020\",\"2023\",\"2023\",\"2023\"],\n",
       "\"Country\":[\"Country A\",\"Country B\",\"Country C\",\"Country A\",\"Country B\",\"Country C\"],\n",
       "\"GDP\":[1000.0,1200.0,800.0,1300.0,1250.0,820.0]\n",
       "},\n",
       "\"mapping\":{\n",
       "\"x\":\"Country\",\n",
       "\"y\":\"GDP\",\n",
       "\"fill\":\"Year\"\n",
       "},\n",
       "\"data_meta\":{\n",
       "},\n",
       "\"ggtitle\":{\n",
       "\"text\":\"Barchart: GDP Values for 2020 and 2023\"\n",
       "},\n",
       "\"theme\":{\n",
       "\"legend_position\":\"top\"\n",
       "},\n",
       "\"kind\":\"plot\",\n",
       "\"scales\":[],\n",
       "\"layers\":[{\n",
       "\"geom\":\"bar\",\n",
       "\"stat\":\"identity\",\n",
       "\"mapping\":{\n",
       "},\n",
       "\"position\":\"dodge\",\n",
       "\"data_meta\":{\n",
       "},\n",
       "\"data\":{\n",
       "}\n",
       "}],\n",
       "\"metainfo_list\":[]\n",
       "};\n",
       "           var plotContainer = document.getElementById(\"EOZTQd\");\n",
       "           window.letsPlotCall(function() {{\n",
       "               LetsPlot.buildPlotFromProcessedSpecs(plotSpec, -1, -1, plotContainer);\n",
       "           }});\n",
       "       })();    \n",
       "   </script>"
      ],
      "text/plain": [
       "<lets_plot.plot.core.PlotSpec at 0x22986c95600>"
      ]
     },
     "execution_count": 18,
     "metadata": {},
     "output_type": "execute_result"
    }
   ],
   "source": [
    "# Barchart\n",
    "barchart = ggplot(df, aes(x='Country', y='GDP', fill='Year')) + \\\n",
    "    geom_bar(stat='identity', position='dodge') + \\\n",
    "    ggtitle(\"Barchart: GDP Values for 2020 and 2023\") + \\\n",
    "    theme(legend_position='top')\n",
    "\n",
    "# Display\n",
    "barchart \n"
   ]
  }
 ],
 "metadata": {
  "kernelspec": {
   "display_name": "rdm",
   "language": "python",
   "name": "python3"
  },
  "language_info": {
   "codemirror_mode": {
    "name": "ipython",
    "version": 3
   },
   "file_extension": ".py",
   "mimetype": "text/x-python",
   "name": "python",
   "nbconvert_exporter": "python",
   "pygments_lexer": "ipython3",
   "version": "3.10.11"
  },
  "orig_nbformat": 4,
  "vscode": {
   "interpreter": {
    "hash": "b0fc7d2c5e3b32912b68ef575c1bdd2ee7ee3f28f2d636d660b71751dc8fb34a"
   }
  }
 },
 "nbformat": 4,
 "nbformat_minor": 2
}
