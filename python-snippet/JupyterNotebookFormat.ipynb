{
 "cells": [
  {
   "attachments": {},
   "cell_type": "markdown",
   "metadata": {},
   "source": [
    "---\n",
    "title: Jupyter Notebook Python cell format\n",
    "author: \"Nguyễn Ngọc Bình\"\n",
    "---"
   ]
  },
  {
   "attachments": {},
   "cell_type": "markdown",
   "metadata": {},
   "source": [
    "## Format table"
   ]
  },
  {
   "cell_type": "code",
   "execution_count": 5,
   "metadata": {},
   "outputs": [
    {
     "data": {
      "text/html": [
       "<style type=\"text/css\">\n",
       "#T_17b59 thead th {\n",
       "  background-color: #5F497A;\n",
       "  color: white;\n",
       "  font-weight: bold;\n",
       "  font-family: Tahoma, sans-serif;\n",
       "  font-size: 11px;\n",
       "}\n",
       "#T_17b59 tbody tr:nth-child(odd) {\n",
       "  background-color: #f9f9f9;\n",
       "}\n",
       "#T_17b59 tbody tr:nth-child(even) {\n",
       "  background-color: white;\n",
       "}\n",
       "#T_17b59 tbody td {\n",
       "  border: 1px solid lightgray;\n",
       "  font-family: Tahoma, sans-serif;\n",
       "  font-size: 10px;\n",
       "  color: black;\n",
       "}\n",
       "</style>\n",
       "<table id=\"T_17b59\">\n",
       "  <thead>\n",
       "    <tr>\n",
       "      <th id=\"T_17b59_level0_col0\" class=\"col_heading level0 col0\" >sepal_length</th>\n",
       "      <th id=\"T_17b59_level0_col1\" class=\"col_heading level0 col1\" >sepal_width</th>\n",
       "      <th id=\"T_17b59_level0_col2\" class=\"col_heading level0 col2\" >petal_length</th>\n",
       "      <th id=\"T_17b59_level0_col3\" class=\"col_heading level0 col3\" >petal_width</th>\n",
       "      <th id=\"T_17b59_level0_col4\" class=\"col_heading level0 col4\" >species</th>\n",
       "    </tr>\n",
       "  </thead>\n",
       "  <tbody>\n",
       "    <tr>\n",
       "      <td id=\"T_17b59_row0_col0\" class=\"data row0 col0\" >5.100000</td>\n",
       "      <td id=\"T_17b59_row0_col1\" class=\"data row0 col1\" >3.500000</td>\n",
       "      <td id=\"T_17b59_row0_col2\" class=\"data row0 col2\" >1.400000</td>\n",
       "      <td id=\"T_17b59_row0_col3\" class=\"data row0 col3\" >0.200000</td>\n",
       "      <td id=\"T_17b59_row0_col4\" class=\"data row0 col4\" >setosa</td>\n",
       "    </tr>\n",
       "    <tr>\n",
       "      <td id=\"T_17b59_row1_col0\" class=\"data row1 col0\" >4.900000</td>\n",
       "      <td id=\"T_17b59_row1_col1\" class=\"data row1 col1\" >3.000000</td>\n",
       "      <td id=\"T_17b59_row1_col2\" class=\"data row1 col2\" >1.400000</td>\n",
       "      <td id=\"T_17b59_row1_col3\" class=\"data row1 col3\" >0.200000</td>\n",
       "      <td id=\"T_17b59_row1_col4\" class=\"data row1 col4\" >setosa</td>\n",
       "    </tr>\n",
       "    <tr>\n",
       "      <td id=\"T_17b59_row2_col0\" class=\"data row2 col0\" >4.700000</td>\n",
       "      <td id=\"T_17b59_row2_col1\" class=\"data row2 col1\" >3.200000</td>\n",
       "      <td id=\"T_17b59_row2_col2\" class=\"data row2 col2\" >1.300000</td>\n",
       "      <td id=\"T_17b59_row2_col3\" class=\"data row2 col3\" >0.200000</td>\n",
       "      <td id=\"T_17b59_row2_col4\" class=\"data row2 col4\" >setosa</td>\n",
       "    </tr>\n",
       "    <tr>\n",
       "      <td id=\"T_17b59_row3_col0\" class=\"data row3 col0\" >4.600000</td>\n",
       "      <td id=\"T_17b59_row3_col1\" class=\"data row3 col1\" >3.100000</td>\n",
       "      <td id=\"T_17b59_row3_col2\" class=\"data row3 col2\" >1.500000</td>\n",
       "      <td id=\"T_17b59_row3_col3\" class=\"data row3 col3\" >0.200000</td>\n",
       "      <td id=\"T_17b59_row3_col4\" class=\"data row3 col4\" >setosa</td>\n",
       "    </tr>\n",
       "    <tr>\n",
       "      <td id=\"T_17b59_row4_col0\" class=\"data row4 col0\" >5.000000</td>\n",
       "      <td id=\"T_17b59_row4_col1\" class=\"data row4 col1\" >3.600000</td>\n",
       "      <td id=\"T_17b59_row4_col2\" class=\"data row4 col2\" >1.400000</td>\n",
       "      <td id=\"T_17b59_row4_col3\" class=\"data row4 col3\" >0.200000</td>\n",
       "      <td id=\"T_17b59_row4_col4\" class=\"data row4 col4\" >setosa</td>\n",
       "    </tr>\n",
       "  </tbody>\n",
       "</table>\n"
      ],
      "text/plain": [
       "<pandas.io.formats.style.Styler at 0x23e342b2b30>"
      ]
     },
     "execution_count": 5,
     "metadata": {},
     "output_type": "execute_result"
    }
   ],
   "source": [
    "import pandas as pd\n",
    "from IPython.display import HTML\n",
    "import seaborn as sns\n",
    "\n",
    "# Load the Iris dataset\n",
    "iris = sns.load_dataset(\"iris\")\n",
    "\n",
    "# Define a function to style the header cells and rows with accent color and Tahoma font\n",
    "def style_dataframe(df, header_background_color=\"#5F497A\", header_text_color=\"white\", content_text_color=\"black\"):\n",
    "    styles = [\n",
    "        {\"selector\": \"thead th\", \"props\": [(\"background-color\", header_background_color), (\"color\", header_text_color), (\"font-weight\", \"bold\"), (\"font-family\", \"Tahoma, sans-serif\"), (\"font-size\", \"11px\")]},\n",
    "        {\"selector\": \"tbody tr:nth-child(odd)\", \"props\": [(\"background-color\", \"#f9f9f9\")]},\n",
    "        {\"selector\": \"tbody tr:nth-child(even)\", \"props\": [(\"background-color\", \"white\")]},\n",
    "        {\"selector\": \"tbody td\", \"props\": [(\"border\", \"1px solid lightgray\"), (\"font-family\", \"Tahoma, sans-serif\"), (\"font-size\", \"10px\"), (\"color\", content_text_color)]},\n",
    "    ]\n",
    "    return df.style.set_table_styles(styles).hide(axis=\"index\")\n",
    "\n",
    "# Apply the custom style function\n",
    "styled_iris = style_dataframe(iris.head(5))\n",
    "\n",
    "# Display the styled DataFrame using the IPython display function\n",
    "styled_iris\n"
   ]
  }
 ],
 "metadata": {
  "kernelspec": {
   "display_name": "rdm",
   "language": "python",
   "name": "python3"
  },
  "language_info": {
   "codemirror_mode": {
    "name": "ipython",
    "version": 3
   },
   "file_extension": ".py",
   "mimetype": "text/x-python",
   "name": "python",
   "nbconvert_exporter": "python",
   "pygments_lexer": "ipython3",
   "version": "3.10.11"
  },
  "orig_nbformat": 4,
  "vscode": {
   "interpreter": {
    "hash": "b0fc7d2c5e3b32912b68ef575c1bdd2ee7ee3f28f2d636d660b71751dc8fb34a"
   }
  }
 },
 "nbformat": 4,
 "nbformat_minor": 2
}
